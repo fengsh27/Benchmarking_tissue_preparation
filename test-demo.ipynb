{
 "cells": [
  {
   "cell_type": "code",
   "execution_count": null,
   "id": "1fa0bd69-efef-47df-8894-a1be62b039ea",
   "metadata": {},
   "outputs": [],
   "source": [
    "import os\n",
    "import matplotlib.pyplot as plt\n",
    "from deepcell.utils.plot_utils import (\n",
    "    create_rgb_image,\n",
    "    make_outline_overlay,\n",
    ")\n",
    "import skimage\n",
    "from skimage.io import imsave\n",
    "from skimage import img_as_ubyte\n",
    "\n",
    "from tissue_preparation import (\n",
    "    read_image, \n",
    "    generate_nuclear_and_membrane,\n",
    "    crop_out,\n",
    "    stack_nuclear_and_membrane,\n",
    "    run_segmentation,\n",
    ")"
   ]
  },
  {
   "cell_type": "code",
   "execution_count": null,
   "id": "5841cfc5",
   "metadata": {},
   "outputs": [],
   "source": [
    "in_dir = \"/fs/scratch/PCON0100/feng1426/temp/Benchmarking_tissue_preparation_data\"\n",
    "out_dir = \"/fs/scratch/PCON0100/feng1426/temp/Benchmarking_tissue_preparation_data/out\""
   ]
  },
  {
   "cell_type": "markdown",
   "id": "a5c4cd6c",
   "metadata": {},
   "source": [
    "## Segmentation"
   ]
  },
  {
   "cell_type": "markdown",
   "id": "6e8a2af1",
   "metadata": {},
   "source": [
    "### slide 1"
   ]
  },
  {
   "cell_type": "code",
   "execution_count": null,
   "id": "906f7fc5",
   "metadata": {},
   "outputs": [],
   "source": [
    "img1 = read_image(f\"{in_dir}/Slide 1_20 min HIER 1h RT stain_Scan1.qptiff\")\n",
    "# use this to check which marker is which index in the qptiff\n",
    "# indexing in python starts at 0 not at 1 like in R, so [0, :, :] = C1 in the qptiff\n",
    "plt.figure(figsize = (5, 5))\n",
    "plt.imshow(img1[0, :, :])"
   ]
  },
  {
   "cell_type": "code",
   "execution_count": null,
   "id": "657752a1",
   "metadata": {},
   "outputs": [],
   "source": [
    "nuclear1, membrane1 = generate_nuclear_and_membrane(img1)\n",
    "# show the final nuclear and membrane arrays as images\n",
    "fig, ax = plt.subplots(1, 2, figsize=(10, 10))\n",
    "ax[0].imshow(nuclear1)\n",
    "ax[1].imshow(membrane1)\n",
    "\n",
    "ax[0].set_title('nuclear1')\n",
    "ax[1].set_title('membrane1')"
   ]
  },
  {
   "cell_type": "code",
   "execution_count": null,
   "id": "45af2eac",
   "metadata": {},
   "outputs": [],
   "source": [
    "# save nuclear and membrane tiffs for future reference \n",
    "# (can also check that nuclear is actually nuclear by opening the image, hard to tell in a python notebook)\n",
    "imsave(f\"{out_dir}/MESMER_outputs/nuclear1.tiff\", nuclear1, check_contrast = False)\n",
    "imsave(f\"{out_dir}/MESMER_outputs/membrane1.tiff\", membrane1, check_contrast = False)"
   ]
  },
  {
   "cell_type": "code",
   "execution_count": null,
   "id": "8e7867d9",
   "metadata": {},
   "outputs": [],
   "source": [
    "stacked_img1 = stack_nuclear_and_membrane(nuclear=nuclear1, membrane=membrane1)"
   ]
  },
  {
   "cell_type": "code",
   "execution_count": null,
   "id": "e9ba724c",
   "metadata": {},
   "outputs": [],
   "source": [
    "# crop out area of interest\n",
    "y_min1 = 9500\n",
    "y_max1 = 15000\n",
    "x_min1 = 5000\n",
    "x_max1 = 12000\n",
    "\n",
    "fig, ax = plt.subplots(1, 2, figsize=(10, 10))\n",
    "ax[0].imshow(stacked_img1[0, :, :, 0])\n",
    "ax[1].imshow(stacked_img1[0, y_min1:y_max1, x_min1:x_max1, 0])\n",
    "\n",
    "ax[0].set_title('full1')\n",
    "ax[1].set_title('cropped1')"
   ]
  },
  {
   "cell_type": "code",
   "execution_count": null,
   "id": "8a441bd1",
   "metadata": {},
   "outputs": [],
   "source": [
    "cropped_stack1 = crop_out(stacked_img1, xmin=x_min1, xmax=x_max1, ymin=y_min1, ymax=y_max1)\n",
    "cropped_stack1.shape"
   ]
  },
  {
   "cell_type": "code",
   "execution_count": null,
   "id": "747f08dc",
   "metadata": {},
   "outputs": [],
   "source": [
    "# maxima_threshold controls what is considered a unique cell (lower values = more separate cells, higher values = fewer cells)\n",
    "# interior_threshold determines what is considered background/not part of a cell (lower value = larger cells)\n",
    "maxima_threshold = 0.075\n",
    "interior_threshold = 0.2\n",
    "predictions1 = run_segmentation(img=cropped_stack1, maxima_threshold=maxima_threshold, interior_threshold=interior_threshold)"
   ]
  },
  {
   "cell_type": "code",
   "execution_count": null,
   "id": "78a64de7",
   "metadata": {},
   "outputs": [],
   "source": [
    "rgb_image = create_rgb_image(cropped_stack1, channel_colors = [\"green\", \"blue\"])\n",
    "overlay = make_outline_overlay(rgb_data = rgb_image, predictions = predictions1)\n",
    "\n",
    "# save MESMER outputs\n",
    "output_dir = f'{out_dir}/MESMER_outputs/{maxima_threshold}maxima_1_{interior_threshold}interior_1/'\n",
    "if not os.path.exists(output_dir):\n",
    "    os.makedirs(output_dir)\n",
    "\n",
    "skimage.io.imsave(output_dir + \"seg_outline1.tiff\", img_as_ubyte(overlay[0, ..., 0]), check_contrast = False) # segmentation outline\n",
    "skimage.io.imsave(output_dir + \"seg_overlay1.tiff\", img_as_ubyte(overlay[0, ...]), check_contrast = False) # segmentation overlay (nuc + membrane + outline)\n",
    "skimage.io.imsave(output_dir + \"MESMER_mask1.tiff\", predictions1[0, ..., 0], check_contrast = False) # MESMER mask"
   ]
  }
 ],
 "metadata": {
  "kernelspec": {
   "display_name": "Python 3.9 (Conda 2022.05) [python/3.9-2022.05]",
   "language": "python",
   "name": "python39_202205"
  },
  "language_info": {
   "codemirror_mode": {
    "name": "ipython",
    "version": 3
   },
   "file_extension": ".py",
   "mimetype": "text/x-python",
   "name": "python",
   "nbconvert_exporter": "python",
   "pygments_lexer": "ipython3",
   "version": "3.9.12"
  }
 },
 "nbformat": 4,
 "nbformat_minor": 5
}
